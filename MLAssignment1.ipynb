{
  "nbformat": 4,
  "nbformat_minor": 0,
  "metadata": {
    "colab": {
      "provenance": [],
      "authorship_tag": "ABX9TyPVn8jEokEsyob5eBUzpnoi",
      "include_colab_link": true
    },
    "kernelspec": {
      "name": "python3",
      "display_name": "Python 3"
    },
    "language_info": {
      "name": "python"
    }
  },
  "cells": [
    {
      "cell_type": "markdown",
      "metadata": {
        "id": "view-in-github",
        "colab_type": "text"
      },
      "source": [
        "<a href=\"https://colab.research.google.com/github/AnubhabBiswas123/ML-Assignment/blob/main/MLAssignment1.ipynb\" target=\"_parent\"><img src=\"https://colab.research.google.com/assets/colab-badge.svg\" alt=\"Open In Colab\"/></a>"
      ]
    },
    {
      "cell_type": "code",
      "execution_count": 1,
      "metadata": {
        "colab": {
          "base_uri": "https://localhost:8080/"
        },
        "id": "Pb7JMvA2jClx",
        "outputId": "3760844c-437b-4be6-ed87-362348685263"
      },
      "outputs": [
        {
          "output_type": "stream",
          "name": "stdout",
          "text": [
            "Method: BATCH\n",
            "Final parameters: theta_0=-0.000000, theta_1=0.661955\n",
            "Final cost: 0.280907\n",
            "\n",
            "Method: BATCH\n",
            "Final parameters: theta_0=-0.000000, theta_1=0.146747\n",
            "Final cost: 0.413627\n",
            "\n",
            "Method: BATCH\n",
            "Final parameters: theta_0=-17095476930258022.000000, theta_1=-839128250130188947898161430528.000000\n",
            "Final cost: 352068110083276541875305251923431554544231930823106954788864.000000\n",
            "\n",
            "Method: STOCHASTIC\n",
            "Final parameters: theta_0=0.182193, theta_1=0.692309\n",
            "Final cost: 0.297965\n",
            "\n",
            "Method: MINI-BATCH\n",
            "Final parameters: theta_0=0.009815, theta_1=0.577607\n",
            "Final cost: 0.284513\n",
            "\n"
          ]
        }
      ],
      "source": [
        "import numpy as np\n",
        "import pandas as pd\n",
        "import matplotlib.pyplot as plt\n",
        "\n",
        "\n",
        "def cost_function(theta_0, theta_1, X, y):\n",
        "    m = len(X)\n",
        "    h = theta_0 + theta_1 * X\n",
        "    cost = (1 / (2 * m)) * sum((h - y) ** 2)\n",
        "    return cost\n",
        "\n",
        "\n",
        "def gradient_descent(X, y, theta_0, theta_1, alpha, iterations, method='batch', batch_size=1):\n",
        "    m = len(X)\n",
        "    cost_history = []\n",
        "\n",
        "    for _ in range(iterations):\n",
        "        if method == 'batch':\n",
        "            h = theta_0 + theta_1 * X\n",
        "            d_theta_0 = (1 / m) * sum(h - y)\n",
        "            d_theta_1 = (1 / m) * sum((h - y) * X)\n",
        "        elif method == 'stochastic':\n",
        "            i = np.random.randint(0, m)\n",
        "            h = theta_0 + theta_1 * X[i]\n",
        "            d_theta_0 = h - y[i]\n",
        "            d_theta_1 = (h - y[i]) * X[i]\n",
        "        elif method == 'mini-batch':\n",
        "            indices = np.random.choice(m, batch_size, replace=False)\n",
        "            X_batch = X[indices]\n",
        "            y_batch = y[indices]\n",
        "            h = theta_0 + theta_1 * X_batch\n",
        "            d_theta_0 = (1 / batch_size) * sum(h - y_batch)\n",
        "            d_theta_1 = (1 / batch_size) * sum((h - y_batch) * X_batch)\n",
        "\n",
        "        theta_0 -= alpha * d_theta_0\n",
        "        theta_1 -= alpha * d_theta_1\n",
        "\n",
        "        cost = cost_function(theta_0, theta_1, X, y)\n",
        "        cost_history.append(cost)\n",
        "\n",
        "    return theta_0, theta_1, cost_history\n",
        "\n",
        "\n",
        "def predict(X, theta_0, theta_1):\n",
        "    return theta_0 + theta_1 * X\n",
        "\n",
        "\n",
        "def normalize(X):\n",
        "    return (X - np.mean(X)) / np.std(X)\n",
        "\n",
        "\n",
        "def plot_data(alpha, iterations, method='batch', batch_size=1):\n",
        "    X = normalize(pd.read_csv('linearX.csv').values)\n",
        "    Y = normalize(pd.read_csv('linearY.csv').values)\n",
        "    theta_0 = 0\n",
        "    theta_1 = 0\n",
        "\n",
        "    theta_0, theta_1, cost_history = gradient_descent(X, Y, theta_0, theta_1, alpha, iterations, method, batch_size)\n",
        "\n",
        "    plt.figure(figsize=(10, 6))\n",
        "    plt.plot(range(1, iterations + 1), cost_history, color='purple', linewidth=2)\n",
        "    plt.xlabel('Iterations', fontsize=14)\n",
        "    plt.ylabel('Cost', fontsize=14)\n",
        "    plt.title(f'Cost vs. Iterations (α={alpha}, method={method})', fontsize=16)\n",
        "    plt.grid(True, linestyle='--', alpha=0.7)\n",
        "    plt.xticks(fontsize=12)\n",
        "    plt.yticks(fontsize=12)\n",
        "    plt.savefig(f'fig_cost_{method}_{alpha}.png')\n",
        "    plt.close()\n",
        "\n",
        "    plt.figure(figsize=(10, 6))\n",
        "    plt.scatter(X, Y, color='blue', label='Data points', alpha=0.6, edgecolors='w', s=100)\n",
        "    plt.plot(X, theta_0 + theta_1 * X, color='red', linewidth=2, label='Regression line')\n",
        "    plt.xlabel('X', fontsize=14)\n",
        "    plt.ylabel('y', fontsize=14)\n",
        "    plt.title(f'Linear Regression (α={alpha}, method={method})', fontsize=16)\n",
        "    plt.legend(fontsize=12)\n",
        "    plt.grid(True, linestyle='--', alpha=0.7)\n",
        "    plt.xticks(fontsize=12)\n",
        "    plt.yticks(fontsize=12)\n",
        "    plt.savefig(f'fig_regression_{method}_{alpha}.png')\n",
        "    plt.close()\n",
        "\n",
        "    final_cost = cost_history[-1]\n",
        "    print(f\"Method: {method.upper()}\")\n",
        "    print(f\"Final parameters: theta_0={theta_0.item():.6f}, theta_1={theta_1.item():.6f}\")\n",
        "    print(f\"Final cost: {final_cost.item():.6f}\\n\")\n",
        "\n",
        "\n",
        "plot_data(alpha=0.5, iterations=50, method='batch')\n",
        "plot_data(alpha=0.005, iterations=50, method='batch')\n",
        "plot_data(alpha=5, iterations=50, method='batch')\n",
        "\n",
        "plot_data(alpha=0.5, iterations=50, method='stochastic')\n",
        "plot_data(alpha=0.5, iterations=50, method='mini-batch', batch_size=10)"
      ]
    }
  ]
}